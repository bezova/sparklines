{
 "cells": [
  {
   "cell_type": "markdown",
   "metadata": {},
   "source": [
    "## Sparklines in Pandas\n",
    "\n",
    "Render Sparklines into a Pandas DataFrame, display inline in Jupyter or output to an HTML file.  Does not annotate the figure, other columns of the DataFrame can be used to acomplish this.\n",
    "\n",
    "Background:\n",
    "https://en.wikipedia.org/wiki/Sparkline\n",
    "\n",
    "Forked and extended from:\n",
    "https://github.com/iiSeymour/sparkline-nb"
   ]
  },
  {
   "cell_type": "code",
   "execution_count": 17,
   "metadata": {
    "collapsed": true
   },
   "outputs": [],
   "source": [
    "import numpy as np\n",
    "import pandas as pd\n",
    "from scipy import stats\n",
    "import matplotlib.pyplot as plt\n",
    "import sparklines\n",
    "%matplotlib inline"
   ]
  },
  {
   "cell_type": "markdown",
   "metadata": {},
   "source": [
    "### Create some plot data\n",
    "Function assumes data to plot is an array-like object in a single cell per row."
   ]
  },
  {
   "cell_type": "code",
   "execution_count": 2,
   "metadata": {
    "collapsed": false
   },
   "outputs": [],
   "source": [
    "density_func = 78\n",
    "mean, var, skew, kurt = stats.chi.stats(density_func, moments='mvsk')\n",
    "x_chi = np.linspace(stats.chi.ppf(0.01, density_func),\n",
    "                    stats.chi.ppf(0.99, density_func), 100)\n",
    "y_chi = stats.chi.pdf(x_chi, density_func)\n",
    "\n",
    "x_expon = np.linspace(stats.expon.ppf(0.01), stats.expon.ppf(0.99), 100)\n",
    "y_expon = stats.expon.pdf(x_expon)\n",
    "\n",
    "a_gamma = 1.99\n",
    "x_gamma = np.linspace(stats.gamma.ppf(0.01, a_gamma),\n",
    "                      stats.gamma.ppf(0.99, a_gamma), 100)\n",
    "y_gamma = stats.gamma.pdf(x_gamma, a_gamma)"
   ]
  },
  {
   "cell_type": "code",
   "execution_count": 3,
   "metadata": {
    "collapsed": true
   },
   "outputs": [],
   "source": [
    "n = 100\n",
    "\n",
    "data = [('rand',        np.random.rand(n)), \n",
    "        ('randn',       np.random.randn(n)), \n",
    "        ('beta',        np.random.beta(2, 1, size=n)),\n",
    "        ('binomial',    np.random.binomial(3.4, 0.22, size=n)),\n",
    "        ('exponential', np.random.exponential(size=n)),\n",
    "        ('geometric',   np.random.geometric(0.5, size=n)),\n",
    "        ('laplace',     np.random.laplace(size=n)),\n",
    "        ('chi',         y_chi),\n",
    "        ('expon',       y_expon),\n",
    "        ('gamma',       y_gamma)\n",
    "        ]\n",
    "\n",
    "df = pd.DataFrame(data, columns=['function', 'data'])"
   ]
  },
  {
   "cell_type": "code",
   "execution_count": 4,
   "metadata": {
    "collapsed": false
   },
   "outputs": [
    {
     "data": {
      "text/plain": [
       "('rand',\n",
       " 'randn',\n",
       " 'beta',\n",
       " 'binomial',\n",
       " 'exponential',\n",
       " 'geometric',\n",
       " 'laplace',\n",
       " 'chi',\n",
       " 'expon',\n",
       " 'gamma')"
      ]
     },
     "execution_count": 4,
     "metadata": {},
     "output_type": "execute_result"
    }
   ],
   "source": [
    "fnames, datas = zip(*data)\n",
    "fnames"
   ]
  },
  {
   "cell_type": "code",
   "execution_count": 5,
   "metadata": {
    "collapsed": true
   },
   "outputs": [],
   "source": [
    "a = pd.DataFrame(np.array(datas))"
   ]
  },
  {
   "cell_type": "code",
   "execution_count": 20,
   "metadata": {
    "collapsed": false
   },
   "outputs": [],
   "source": [
    "a['sparklines'] = sparklines.create(data=a.ix[:, 0:99])"
   ]
  },
  {
   "cell_type": "code",
   "execution_count": 21,
   "metadata": {
    "collapsed": false
   },
   "outputs": [
    {
     "data": {
      "text/html": [
       "<div>\n",
       "<table border=\"1\" class=\"dataframe\">\n",
       "  <thead>\n",
       "    <tr style=\"text-align: right;\">\n",
       "      <th></th>\n",
       "      <th>0</th>\n",
       "      <th>1</th>\n",
       "      <th>2</th>\n",
       "      <th>3</th>\n",
       "      <th>4</th>\n",
       "      <th>5</th>\n",
       "      <th>6</th>\n",
       "      <th>7</th>\n",
       "      <th>8</th>\n",
       "      <th>9</th>\n",
       "      <th>...</th>\n",
       "      <th>92</th>\n",
       "      <th>93</th>\n",
       "      <th>94</th>\n",
       "      <th>95</th>\n",
       "      <th>96</th>\n",
       "      <th>97</th>\n",
       "      <th>98</th>\n",
       "      <th>99</th>\n",
       "      <th>function</th>\n",
       "      <th>sparklines</th>\n",
       "    </tr>\n",
       "  </thead>\n",
       "  <tbody>\n",
       "    <tr>\n",
       "      <th>5</th>\n",
       "      <td>5.000000</td>\n",
       "      <td>4.000000</td>\n",
       "      <td>3.000000</td>\n",
       "      <td>1.000000</td>\n",
       "      <td>2.000000</td>\n",
       "      <td>2.000000</td>\n",
       "      <td>1.000000</td>\n",
       "      <td>4.000000</td>\n",
       "      <td>1.000000</td>\n",
       "      <td>1.000000</td>\n",
       "      <td>...</td>\n",
       "      <td>1.000000</td>\n",
       "      <td>5.000000</td>\n",
       "      <td>7.000000</td>\n",
       "      <td>1.000000</td>\n",
       "      <td>1.000000</td>\n",
       "      <td>1.000000</td>\n",
       "      <td>2.000000</td>\n",
       "      <td>1.000000</td>\n",
       "      <td>geometric</td>\n",
       "      <td>&lt;img src=\"data:image/png;base64,iVBORw0KGgoAAA...</td>\n",
       "    </tr>\n",
       "    <tr>\n",
       "      <th>6</th>\n",
       "      <td>0.507503</td>\n",
       "      <td>1.266517</td>\n",
       "      <td>-0.438971</td>\n",
       "      <td>0.273656</td>\n",
       "      <td>-0.048831</td>\n",
       "      <td>-0.069884</td>\n",
       "      <td>0.484512</td>\n",
       "      <td>-0.121812</td>\n",
       "      <td>0.308592</td>\n",
       "      <td>-0.023875</td>\n",
       "      <td>...</td>\n",
       "      <td>5.070926</td>\n",
       "      <td>1.482882</td>\n",
       "      <td>1.125894</td>\n",
       "      <td>-1.512296</td>\n",
       "      <td>1.284216</td>\n",
       "      <td>-0.222296</td>\n",
       "      <td>1.973153</td>\n",
       "      <td>-0.677996</td>\n",
       "      <td>laplace</td>\n",
       "      <td>&lt;img src=\"data:image/png;base64,iVBORw0KGgoAAA...</td>\n",
       "    </tr>\n",
       "    <tr>\n",
       "      <th>7</th>\n",
       "      <td>0.040498</td>\n",
       "      <td>0.045391</td>\n",
       "      <td>0.050737</td>\n",
       "      <td>0.056560</td>\n",
       "      <td>0.062882</td>\n",
       "      <td>0.069724</td>\n",
       "      <td>0.077106</td>\n",
       "      <td>0.085044</td>\n",
       "      <td>0.093554</td>\n",
       "      <td>0.102646</td>\n",
       "      <td>...</td>\n",
       "      <td>0.070661</td>\n",
       "      <td>0.064455</td>\n",
       "      <td>0.058683</td>\n",
       "      <td>0.053326</td>\n",
       "      <td>0.048368</td>\n",
       "      <td>0.043787</td>\n",
       "      <td>0.039566</td>\n",
       "      <td>0.035686</td>\n",
       "      <td>chi</td>\n",
       "      <td>&lt;img src=\"data:image/png;base64,iVBORw0KGgoAAA...</td>\n",
       "    </tr>\n",
       "    <tr>\n",
       "      <th>8</th>\n",
       "      <td>0.990000</td>\n",
       "      <td>0.945099</td>\n",
       "      <td>0.902234</td>\n",
       "      <td>0.861314</td>\n",
       "      <td>0.822249</td>\n",
       "      <td>0.784956</td>\n",
       "      <td>0.749355</td>\n",
       "      <td>0.715368</td>\n",
       "      <td>0.682923</td>\n",
       "      <td>0.651949</td>\n",
       "      <td>...</td>\n",
       "      <td>0.013839</td>\n",
       "      <td>0.013211</td>\n",
       "      <td>0.012612</td>\n",
       "      <td>0.012040</td>\n",
       "      <td>0.011494</td>\n",
       "      <td>0.010973</td>\n",
       "      <td>0.010475</td>\n",
       "      <td>0.010000</td>\n",
       "      <td>expon</td>\n",
       "      <td>&lt;img src=\"data:image/png;base64,iVBORw0KGgoAAA...</td>\n",
       "    </tr>\n",
       "    <tr>\n",
       "      <th>9</th>\n",
       "      <td>0.129412</td>\n",
       "      <td>0.174739</td>\n",
       "      <td>0.213651</td>\n",
       "      <td>0.246827</td>\n",
       "      <td>0.274862</td>\n",
       "      <td>0.298294</td>\n",
       "      <td>0.317606</td>\n",
       "      <td>0.333234</td>\n",
       "      <td>0.345575</td>\n",
       "      <td>0.354988</td>\n",
       "      <td>...</td>\n",
       "      <td>0.012809</td>\n",
       "      <td>0.012124</td>\n",
       "      <td>0.011475</td>\n",
       "      <td>0.010859</td>\n",
       "      <td>0.010276</td>\n",
       "      <td>0.009722</td>\n",
       "      <td>0.009198</td>\n",
       "      <td>0.008701</td>\n",
       "      <td>gamma</td>\n",
       "      <td>&lt;img src=\"data:image/png;base64,iVBORw0KGgoAAA...</td>\n",
       "    </tr>\n",
       "  </tbody>\n",
       "</table>\n",
       "<p>5 rows × 102 columns</p>\n",
       "</div>"
      ],
      "text/plain": [
       "          0         1         2         3         4         5         6  \\\n",
       "5  5.000000  4.000000  3.000000  1.000000  2.000000  2.000000  1.000000   \n",
       "6  0.507503  1.266517 -0.438971  0.273656 -0.048831 -0.069884  0.484512   \n",
       "7  0.040498  0.045391  0.050737  0.056560  0.062882  0.069724  0.077106   \n",
       "8  0.990000  0.945099  0.902234  0.861314  0.822249  0.784956  0.749355   \n",
       "9  0.129412  0.174739  0.213651  0.246827  0.274862  0.298294  0.317606   \n",
       "\n",
       "          7         8         9  \\\n",
       "5  4.000000  1.000000  1.000000   \n",
       "6 -0.121812  0.308592 -0.023875   \n",
       "7  0.085044  0.093554  0.102646   \n",
       "8  0.715368  0.682923  0.651949   \n",
       "9  0.333234  0.345575  0.354988   \n",
       "\n",
       "                         ...                                92        93  \\\n",
       "5                        ...                          1.000000  5.000000   \n",
       "6                        ...                          5.070926  1.482882   \n",
       "7                        ...                          0.070661  0.064455   \n",
       "8                        ...                          0.013839  0.013211   \n",
       "9                        ...                          0.012809  0.012124   \n",
       "\n",
       "         94        95        96        97        98        99   function  \\\n",
       "5  7.000000  1.000000  1.000000  1.000000  2.000000  1.000000  geometric   \n",
       "6  1.125894 -1.512296  1.284216 -0.222296  1.973153 -0.677996    laplace   \n",
       "7  0.058683  0.053326  0.048368  0.043787  0.039566  0.035686        chi   \n",
       "8  0.012612  0.012040  0.011494  0.010973  0.010475  0.010000      expon   \n",
       "9  0.011475  0.010859  0.010276  0.009722  0.009198  0.008701      gamma   \n",
       "\n",
       "                                          sparklines  \n",
       "5  <img src=\"data:image/png;base64,iVBORw0KGgoAAA...  \n",
       "6  <img src=\"data:image/png;base64,iVBORw0KGgoAAA...  \n",
       "7  <img src=\"data:image/png;base64,iVBORw0KGgoAAA...  \n",
       "8  <img src=\"data:image/png;base64,iVBORw0KGgoAAA...  \n",
       "9  <img src=\"data:image/png;base64,iVBORw0KGgoAAA...  \n",
       "\n",
       "[5 rows x 102 columns]"
      ]
     },
     "execution_count": 21,
     "metadata": {},
     "output_type": "execute_result"
    }
   ],
   "source": [
    "a.tail()"
   ]
  },
  {
   "cell_type": "code",
   "execution_count": 28,
   "metadata": {
    "collapsed": false
   },
   "outputs": [
    {
     "data": {
      "image/png": "[encoded data removed]",
      "text/plain": [
       "<matplotlib.figure.Figure at 0x7f337dc227f0>"
      ]
     },
     "metadata": {},
     "output_type": "display_data"
    }
   ],
   "source": [
    "plt.plot(a.ix[8, 0:99])\n",
    "plt.show()"
   ]
  },
  {
   "cell_type": "code",
   "execution_count": 43,
   "metadata": {
    "collapsed": false
   },
   "outputs": [
    {
     "data": {
      "image/png": "[encoded data removed]",
      "text/plain": [
       "<matplotlib.figure.Figure at 0x7f337cd86048>"
      ]
     },
     "metadata": {},
     "output_type": "display_data"
    }
   ],
   "source": [
    "plt.plot(a.ix[9, 0:99])\n",
    "plt.show()"
   ]
  },
  {
   "cell_type": "raw",
   "metadata": {},
   "source": [
    "sparklines.sparkline(a.ix[9, 0:99])"
   ]
  },
  {
   "cell_type": "code",
   "execution_count": 49,
   "metadata": {
    "collapsed": false
   },
   "outputs": [],
   "source": [
    "x = a.ix[:, 0:100]  #.apply(sparklines.sparkline)"
   ]
  },
  {
   "cell_type": "code",
   "execution_count": 28,
   "metadata": {
    "collapsed": false
   },
   "outputs": [
    {
     "data": {
      "image/png": "[encoded data removed]",
      "text/plain": [
       "<matplotlib.figure.Figure at 0x7f337dc227f0>"
      ]
     },
     "metadata": {},
     "output_type": "display_data"
    }
   ],
   "source": [
    "plt.plot(a.ix[8, 0:99])\n",
    "plt.show()"
   ]
  },
  {
   "cell_type": "code",
   "execution_count": 52,
   "metadata": {
    "collapsed": false
   },
   "outputs": [],
   "source": [
    "x = pd.DataFrame(x)"
   ]
  },
  {
   "cell_type": "code",
   "execution_count": 53,
   "metadata": {
    "collapsed": true
   },
   "outputs": [],
   "source": [
    "y = sparklines.create(x)"
   ]
  },
  {
   "cell_type": "code",
   "execution_count": 63,
   "metadata": {
    "collapsed": true
   },
   "outputs": [],
   "source": [
    "z = a.ix[9,0:100]"
   ]
  },
  {
   "cell_type": "code",
   "execution_count": 64,
   "metadata": {
    "collapsed": false
   },
   "outputs": [
    {
     "data": {
      "text/plain": [
       "0       0.129412\n",
       "1       0.174739\n",
       "2       0.213651\n",
       "3       0.246827\n",
       "4       0.274862\n",
       "5       0.298294\n",
       "6       0.317606\n",
       "7       0.333234\n",
       "8       0.345575\n",
       "9       0.354988\n",
       "10      0.361799\n",
       "11      0.366304\n",
       "12      0.368769\n",
       "13      0.369437\n",
       "14      0.368529\n",
       "15      0.366242\n",
       "16      0.362758\n",
       "17      0.358237\n",
       "18      0.352826\n",
       "19      0.346656\n",
       "20      0.339847\n",
       "21      0.332505\n",
       "22      0.324725\n",
       "23      0.316593\n",
       "24      0.308184\n",
       "25      0.299568\n",
       "26      0.290803\n",
       "27      0.281945\n",
       "28       0.27304\n",
       "29       0.26413\n",
       "         ...    \n",
       "70     0.0414917\n",
       "71     0.0393981\n",
       "72     0.0374032\n",
       "73     0.0355029\n",
       "74     0.0336933\n",
       "75     0.0319705\n",
       "76     0.0303307\n",
       "77     0.0287704\n",
       "78      0.027286\n",
       "79     0.0258742\n",
       "80     0.0245319\n",
       "81     0.0232557\n",
       "82     0.0220428\n",
       "83     0.0208902\n",
       "84     0.0197952\n",
       "85     0.0187551\n",
       "86     0.0177673\n",
       "87     0.0168295\n",
       "88     0.0159391\n",
       "89      0.015094\n",
       "90      0.014292\n",
       "91     0.0135311\n",
       "92     0.0128092\n",
       "93     0.0121245\n",
       "94     0.0114751\n",
       "95     0.0108593\n",
       "96     0.0102756\n",
       "97    0.00972215\n",
       "98    0.00919762\n",
       "99    0.00870054\n",
       "Name: 9, dtype: object"
      ]
     },
     "execution_count": 64,
     "metadata": {},
     "output_type": "execute_result"
    }
   ],
   "source": [
    "z"
   ]
  },
  {
   "cell_type": "code",
   "execution_count": 65,
   "metadata": {
    "collapsed": false
   },
   "outputs": [
    {
     "data": {
      "image/png": "[encoded data removed]",
      "text/plain": [
       "<matplotlib.figure.Figure at 0x7f337f649588>"
      ]
     },
     "metadata": {},
     "output_type": "display_data"
    }
   ],
   "source": [
    "plt.plot(z)\n",
    "plt.show()"
   ]
  },
  {
   "cell_type": "code",
   "execution_count": 55,
   "metadata": {
    "collapsed": false
   },
   "outputs": [],
   "source": [
    "a['sparklines4'] = y"
   ]
  },
  {
   "cell_type": "code",
   "execution_count": 41,
   "metadata": {
    "collapsed": false
   },
   "outputs": [],
   "source": [
    "a['sparklines3'] = x"
   ]
  },
  {
   "cell_type": "code",
   "execution_count": 71,
   "metadata": {
    "collapsed": false
   },
   "outputs": [
    {
     "data": {
      "text/html": [
       "<table border=\"1\" class=\"dataframe\">\n",
       "  <thead>\n",
       "    <tr style=\"text-align: right;\">\n",
       "      <th>0</th>\n",
       "    </tr>\n",
       "  </thead>\n",
       "  <tbody>\n",
       "    <tr>\n",
       "      <td><img src=\"data:image/png;base64,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\"/></td>\n",
       "    </tr>\n",
       "  </tbody>\n",
       "</table>"
      ],
      "text/plain": [
       "<IPython.core.display.HTML object>"
      ]
     },
     "metadata": {},
     "output_type": "display_data"
    },
    {
     "data": {
      "text/html": [
       "<table border=\"1\" class=\"dataframe\">\n",
       "  <thead>\n",
       "    <tr style=\"text-align: right;\">\n",
       "      <th>0</th>\n",
       "    </tr>\n",
       "  </thead>\n",
       "  <tbody>\n",
       "    <tr>\n",
       "      <td><img src=\"data:image/png;base64,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\"/></td>\n",
       "    </tr>\n",
       "  </tbody>\n",
       "</table>"
      ],
      "text/plain": [
       "<IPython.core.display.HTML object>"
      ]
     },
     "metadata": {},
     "output_type": "display_data"
    },
    {
     "data": {
      "text/html": [
       "<table border=\"1\" class=\"dataframe\">\n",
       "  <thead>\n",
       "    <tr style=\"text-align: right;\">\n",
       "      <th>0</th>\n",
       "    </tr>\n",
       "  </thead>\n",
       "  <tbody>\n",
       "    <tr>\n",
       "      <td><img src=\"data:image/png;base64,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\"/></td>\n",
       "    </tr>\n",
       "  </tbody>\n",
       "</table>"
      ],
      "text/plain": [
       "<IPython.core.display.HTML object>"
      ]
     },
     "metadata": {},
     "output_type": "display_data"
    },
    {
     "data": {
      "text/html": [
       "<table border=\"1\" class=\"dataframe\">\n",
       "  <thead>\n",
       "    <tr style=\"text-align: right;\">\n",
       "      <th>0</th>\n",
       "    </tr>\n",
       "  </thead>\n",
       "  <tbody>\n",
       "    <tr>\n",
       "      <td><img src=\"data:image/png;base64,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\"/></td>\n",
       "    </tr>\n",
       "  </tbody>\n",
       "</table>"
      ],
      "text/plain": [
       "<IPython.core.display.HTML object>"
      ]
     },
     "metadata": {},
     "output_type": "display_data"
    },
    {
     "data": {
      "text/html": [
       "<table border=\"1\" class=\"dataframe\">\n",
       "  <thead>\n",
       "    <tr style=\"text-align: right;\">\n",
       "      <th>0</th>\n",
       "    </tr>\n",
       "  </thead>\n",
       "  <tbody>\n",
       "    <tr>\n",
       "      <td><img src=\"data:image/png;base64,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\"/></td>\n",
       "    </tr>\n",
       "  </tbody>\n",
       "</table>"
      ],
      "text/plain": [
       "<IPython.core.display.HTML object>"
      ]
     },
     "metadata": {},
     "output_type": "display_data"
    },
    {
     "data": {
      "text/html": [
       "<table border=\"1\" class=\"dataframe\">\n",
       "  <thead>\n",
       "    <tr style=\"text-align: right;\">\n",
       "      <th>0</th>\n",
       "    </tr>\n",
       "  </thead>\n",
       "  <tbody>\n",
       "    <tr>\n",
       "      <td><img src=\"data:image/png;base64,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\"/></td>\n",
       "    </tr>\n",
       "  </tbody>\n",
       "</table>"
      ],
      "text/plain": [
       "<IPython.core.display.HTML object>"
      ]
     },
     "metadata": {},
     "output_type": "display_data"
    },
    {
     "data": {
      "text/html": [
       "<table border=\"1\" class=\"dataframe\">\n",
       "  <thead>\n",
       "    <tr style=\"text-align: right;\">\n",
       "      <th>0</th>\n",
       "    </tr>\n",
       "  </thead>\n",
       "  <tbody>\n",
       "    <tr>\n",
       "      <td><img src=\"data:image/png;base64,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\"/></td>\n",
       "    </tr>\n",
       "  </tbody>\n",
       "</table>"
      ],
      "text/plain": [
       "<IPython.core.display.HTML object>"
      ]
     },
     "metadata": {},
     "output_type": "display_data"
    },
    {
     "data": {
      "text/html": [
       "<table border=\"1\" class=\"dataframe\">\n",
       "  <thead>\n",
       "    <tr style=\"text-align: right;\">\n",
       "      <th>0</th>\n",
       "    </tr>\n",
       "  </thead>\n",
       "  <tbody>\n",
       "    <tr>\n",
       "      <td><img src=\"data:image/png;base64,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\"/></td>\n",
       "    </tr>\n",
       "  </tbody>\n",
       "</table>"
      ],
      "text/plain": [
       "<IPython.core.display.HTML object>"
      ]
     },
     "metadata": {},
     "output_type": "display_data"
    },
    {
     "data": {
      "text/html": [
       "<table border=\"1\" class=\"dataframe\">\n",
       "  <thead>\n",
       "    <tr style=\"text-align: right;\">\n",
       "      <th>0</th>\n",
       "    </tr>\n",
       "  </thead>\n",
       "  <tbody>\n",
       "    <tr>\n",
       "      <td><img src=\"data:image/png;base64,iVBORw0KGgoAAAANSUhEUgAAASAAAAASCAYAAAD7RgOSAAAABHNCSVQICAgIfAhkiAAAAAlwSFlzAAALEgAACxIB0t1+/AAABSxJREFUeJztm9luHMcVhr/qffYhJW6ilghKonhJoiRXutOlrvRCeYkEeYYAeYDcGjACBIgN5CaAIEeybEW2Nm7DmZ6ZXqsqF9U9HEqkLdLaSNYHHJxT55yqrp5p/uxGY4TWWmOxWCzvAed9b8BisZxdvKNOuP2nf/DV85im73Ljcp8/XFngd5f73Li0wGIreBt7tFgspxRx1Eew7wcJf//XDvc2BtzdGPDNToyqlrjYb/CbS31+e7HHr9d7fLLeo9fw38rGLRbLyefIAqQ1PHgA7bYZjxPJ3WdD7j4f8N+tIfe3dnkxTmb9FxcafHqhx8cXuvxqtcNHa13W+w0cR7zRE7FYLCePnyxAB9U3RzlfvRhyf3PIw50RX2+PeDqaUB+oGbhcX+lwfbXDz5fb/HKlwy9W2qx2I4SwwmSxnBXeuAAdNmeUlDzcjHmwGfNoMOLbQcyjQcwoK2Z9zcDl2lKba0strp5vc3WpxdVzLX52vkknso9yFstp450I0GEoBVtxxtebY/43GPPdcMzj3TFPRhM2xgnzG1tsBVxZbHLlXJPLi00uLlZ+ocFqN8Jz7Qs9i+Wk8V4F6IeOMUklj3emPB5MeDKa8HQ04Vk85Vk8ZXOSoOZ27QrBSjdifaHBej9ird/gQi9irddgtRex1otYbAX28c5i+cD4IAXoh1AKslzxdJjwdJjwPJ7yfJywUdskYWuaItX+0/Jdh+VOyGo3YrkbstwJWe5GLLVDljoh59sh5zsB51ohgWfvpiyWd8GJE6AfQynIC83WOGMjTtkYJ2xOUnamGVvTlO1pyk6SsT1NmeTlgWv0Gj6LrYBzrcD4tvELTWOLrYB+06ffDFho+nQj377Vs1iOwakToNdBa5ASklyyNc7YnmRsTzMGScZumrObZAySnFGaMcxyhmnOKC2Qh3xUQkAn9Og1AnpNn17k0auEqdfw6UQenWi/b4fezLdCj9Bz7COi5cxxJgXoKGht7qpKqYnTkt1pzm6aM0xy4qxglBXEmYnjrGCSF4zzgnFWMClK4qwgl+pHj+M5glbo0Qo8WqFLKzTi1AxcY6FH0zdxI/Aq79Koc75L6Bsf+Q6R7xJV49Bz7B2a5YPECtBbQqk98cpLRZwWxFnJJC+J04JJXpIUJdPa8pKkNHGSl6RSVnVJVpakpSQpJGkpj7Uf33WIfIfQc4k8h7CKQ88h8BxC3yVwHULPmeV81/g6Dj0H3xUEroPnOgSug+8JfLfqdR08V+A5DoFnvOeauufsjese403su8LeAZ5BrAB94Gi9J2Rag1SatJAzS8q5uJDk0ohULhXZPm/ivFRkUlIqNasVSlFIVXlpYmnqda1UR7pMjoUjwHWMWLmOESen8u68iZfGcznnlRgT1zmxl69j56B4ZlT5+RqIl+pm/3XNxEIIRHVeoqpR97DXu9cnqrGpz9f25ajy83HdU/VxQK3eowBTZP+avLJu/c2IqrY3EkLQ/PeX9L74Jyt3bsPNm8f6zo8lQPfvg2NfFJ06arGrr4j5WClNIfWcIClKqSiUplSKojSxrOpSm16pNFIbr7Sm1AqlTZ/UelYvq7rUGqWMl7NeM9Z1vTI5P+dAY7bey3lVraeYi6t8bWhQVPOh6tFUpTPN75/c469/+yO+LHGjEPHZZ8cSoSP/Gl4IWFvbuzAtZwVR2cn4zzN/fR4Wv874dXOH/T0cNf+m6m+L+i6o/Zf/EGmJ0Aqd5/D55+9GgAC63ePMslgsp4Y7t+DPAeQ5Igjg1q1jLfN/7OE5TGAz20EAAAAASUVORK5CYII=\"/></td>\n",
       "    </tr>\n",
       "  </tbody>\n",
       "</table>"
      ],
      "text/plain": [
       "<IPython.core.display.HTML object>"
      ]
     },
     "metadata": {},
     "output_type": "display_data"
    }
   ],
   "source": [
    "for n in range(9):\n",
    "    sparklines.show(pd.DataFrame(sparklines.create(pd.DataFrame(a.ix[n,0:100]))))"
   ]
  },
  {
   "cell_type": "code",
   "execution_count": 81,
   "metadata": {
    "collapsed": false
   },
   "outputs": [
    {
     "data": {
      "text/html": [
       "<table border=\"1\" class=\"dataframe\">\n",
       "  <thead>\n",
       "    <tr style=\"text-align: right;\">\n",
       "      <th>function</th>\n",
       "      <th>sparkline</th>\n",
       "    </tr>\n",
       "  </thead>\n",
       "  <tbody>\n",
       "    <tr>\n",
       "      <td>rand</td>\n",
       "      <td><img src=\"data:image/png;base64,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\"/></td>\n",
       "    </tr>\n",
       "    <tr>\n",
       "      <td>randn</td>\n",
       "      <td><img src=\"data:image/png;base64,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\"/></td>\n",
       "    </tr>\n",
       "    <tr>\n",
       "      <td>beta</td>\n",
       "      <td><img src=\"data:image/png;base64,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\"/></td>\n",
       "    </tr>\n",
       "    <tr>\n",
       "      <td>binomial</td>\n",
       "      <td><img src=\"data:image/png;base64,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\"/></td>\n",
       "    </tr>\n",
       "    <tr>\n",
       "      <td>exponential</td>\n",
       "      <td><img src=\"data:image/png;base64,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\"/></td>\n",
       "    </tr>\n",
       "    <tr>\n",
       "      <td>geometric</td>\n",
       "      <td><img src=\"data:image/png;base64,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\"/></td>\n",
       "    </tr>\n",
       "    <tr>\n",
       "      <td>laplace</td>\n",
       "      <td><img src=\"data:image/png;base64,iVBORw0KGgoAAAANSUhEUgAAASAAAAASCAYAAAD7RgOSAAAABHNCSVQICAgIfAhkiAAAAAlwSFlzAAALEgAACxIB0t1+/AAADvFJREFUeJztm3l0VFWexz+v9iWpSiVVSUhCyA4hCTAJQpBGwEZpxg1BWxvFbvE43YrjnHaOepjWkR4VG2fOtIqtKDTa7YKtggqGRUF2QoQQYgIJ2cheqWxVqX1/80cwikRZhEGxPn/Vefe9e3+/3/u97/vde18JoiiKRIgQIcIlQHKpDYgQIcJPl4gARYhwmTHn+T3ctGLfsG1OX5BxS7dyx6oyfgiTn4gARYhwGdHY46TGbKeyw0Z9l+u09g8Ot2P3BtnX2Mv68s5LYOGp/KgEyB8MU95i/UEo9+VKv8vPK7sa8QVDl9qUCOfBluouAATg/YMdp7SJosjfSlvIMenIMep5uqQGmztwCaz8ih+VAD2xoZr5L+9n1e7mS23Kd7K5yszitw5zvMtxqU05Z9491MYzm2t5bP3RU44HQ+FLZNHgg1PdMcCK7fUs/GsZFa3WC9a3xe5l0esHWb6lltou+2ntm6rMFC/bzj8/v4eH3j3Cx19c3KohFBbZWNnJ89vq6Xf5z/n6LdVd5MbHMCEpjo+rOk55WZc29tHQ7eTG0eksmVWAzevj6Y2159R/r9PH8i21dA14z9m24ZAuXbp06ble1NTj5M0DLby0s5EopYxMU9QFMea72Hm8m6dKajColWyv7SIvKYYMk/Z79yuKIj1OHwOeADZ3gB6Hl9Z+D819LmQSCVqlFEEQzrq/tZ+38tB7ldRbnLxd1ordE6AozYBCdrrW+4NhSqrMaJVSdGr50PEehw9vIIRGIfve/n0XHTYPx7scJMeoh469uKOB1n43R812YtVK8lP0vLq7ibvWfI5CKqUozXDe44XCIqt2N1HZPkBBsh6p5LvjGg6LbKnu4v63DvPijgZKm/ow27wcN7u4bVLKsNeIosjBZisv7mjgoyOdJOpVjNCrhz3X5QuycE0ZFa02DjZbeeNAC58etZAZH0WKQcOWajMPrK0gMUpDlFxBRZuN9RXttPd7uCrHhEx6Yd7foijS1u+hpMrM7/9xhLc/b+VAUx/vHGwjRiMnb4TurHKw3ermT5trmZubxoQUA5tq25maYSI5dtD/p0qO0evw88j0cSTHqrF7g7x3pIU3D7TyWY0FTzDM+JSYof6211h4YsNRsuOjSdCp6HZ4WbCqjK1HLeyp62NeYfKweX0uCOe6DX/H6gPsa+gDwKBWYvX4+JdpGTx0bQ6Hmq1sr7UgIJBu1JASq0EplSAIAm1WN2VN/VS22xgVq+GqHBNZ8VHUWRwc7bQjkwikG7Ukxaix2L009bpQyaQsnDKKWI2C2c/tRiWT8efrpvDwpjI67W6WzcvH4QvSbfcSH60k3RhF7oho4qKUZ+VLu9XNHz6oZlddz7eeE6ORMy45hqvHmPh5bgIjYzVDbb1OH2+UttBu9ZBu1OD0hVi5q5HJI008eGUBb1bUs7mujfQ4LWvuvoJ046BghsIiH1R08Ny2OtqtHqKUMp6em8/145P4e2kz/731OKII98/M4t5p6TR0O3ltXzPHzHbGJEaTl6Rjxuh4suJPF/6q9gFW7mokP1nPb65MQ62QMuAJsK68ndGJ0UzNMgIQCIW5YcVemntdHHrsGqJUMgKhMBP++Akz0pPpcXs43NFL7ggdVR0DGLUq+lxeVt11BbPGxp9VfC12LxJBwBStxGL38uDaCspO9AOQHR/N0hvH4vAG2FPfS4/Dx/iRMRSmGnD6glR1DLDtmIVjZjujDFrmjc1gyqgEdpxo5+XSWtb/biqFaYMPSzgsUtFmZetRC5uqzLRbPajlUmQSCQ5fgCkZcfws20icVkGCTkV+sp5YrYLfvnGIz2q7eeLqK5gwUs+nx828V9WExelheo6JfQ29jInXs+zayRhjZASCIqtK63izooHcRB1r7p54irit3tNERasNvUaOMUrJwuJRmKK/ysVAKMz+xj62VJv5/EQ/AgIKmQSL3UvfyWon26jjtvwsRsVpeWHvUaos/YxPieHpm/PJT9YPe79HGTXoVHJW72niqZIaXr9lBklxCq5bvY1541NZ/ss8Omwepi3/jFsLMnlw+hgEAXzBEO9XtNLQa6eud4ATVgfL5hawoDiVOouDuX/Zh9sfQioI3Dstg09qujDbvMzPy+TtyjruESwsiepCMnMmTJlyVjnxTc5ZgF7e2YjdJjAtbQQmnYIX9hxjY00rcolAICyiPKmIvuDpJXuMWkGOUU+bzYXZ4R46blArEEWweb8qOXUqOR5/iGA4TIpBTafNy3PXTaUoQ0+3w8Oid/bR7/GdNoZCKmHxzCx+NyMDpUx60pYQRzvtVLbZ6HX60ChkuP1BXtvXDCLMz8/EqFUiQUAhlaBRyJAKEjrsLpr67VRZ+mkfGFzQS9KrGZeiR6uU8fEXnfiDYWI1Svrcg7ZMzxjBkhkT0EUNxuFgSx+PbykHAZ6ZV0BTj5O1B9votHnIMem4OTeDjbUtHOu2kqRX0zngYfJIE1JBwv5WCzqVDLs3iFouJddkoMXmGBpr4igDtxSlkBqnQa+W88HhDtbsO4FaLsPlD2KKUjJ9tIlNVWbc/hBKmYT1900lL1nHSzsbeHbLcQCev7WQm4pGcLjVyryX9vPYzEJ+lm1k0Tt7sXv93F+cx8zsRB74sJQuh5uPFk8lK+Er8bPYvRxqtjJzjGmoattS3cXitw8TCosk6FT4AiG8wTCLJ+ejV8tYsf8oPa7BMl4jlxKrUQ3FGEAiQGacjpty05k9OhmtZrACcPkC3LTmM6ZmmFh1dyEDngB3ri6jqmMAmUSgMNnIjPQkpqUnolDAusoW1lc30+s+dcpg0Ciwuv0sLs7j9qI0pIOpgjcQ4rUDjbzzRSNZcTqemT2JeIP8lGt3N1j44ycV5CXpee++YgRBoLzFyvyX9xOnURIWRQa8fkxRKlb9uoiCZD0bKjt5uqSGbocPjVzK+BFGpIJAMBwmWqlgjCmGsfEGRidEo1IN+iqKIhurO1hZWoPd52fBpFH8/pps4qKUiKLIn7fV88L2elJjNfz11xNZsr4KmzPE6lunoVDAkpJyKjv6eXjOaF7bd4KmHid/u3UmmYkavkkwHOahDw5SYe5jxe2FPLu1Boc3xDPXTubdqka2NXSgkUv5r1mTKM6MZc8765i7ZAHKcBCJUgnbt5+XCJ2zAIki1NdD1NdevltrOjnU2sfEFBOTUk1oVRK67V7Mdg+BoEgYkRiVkgxjFOqTwW3pc9Pc5yLdEE2CTolcLmBzBzAPeDBqVcRqFVi9Xt4/0kJJbSs356WzqDhrKFFsbj/1XS4SotXEaZVYvT5a+p2U1LSx80Qn6XFaxo/UU9vloLHHSSA06KZEgPBJjyenmvjX4gLS4tVIzlBJNnW72Heim5puG3W9NnrdXmZlJXNLfgaZ8VG4/UF6nX5SYtQolaeWyx02Nw9vOESzbXBNqCjZyHU5o5iRnYBKNZiEq/c3sK2hg4UTcvhFbhJKpUDZiV7WfdFCXoKBOaNHYtTLEQTotHrZeryDzcfb6LCfutNx/ZhU7pk4hjaHg5WltRzvtXF1RhJXZ6bwP3uOoJRJeGlhIbe9UsrEFBNV5n6uTI9n5W8mDInSuwtmkWJU4vQFcHvAdHLcLoeHRWv3IpEIzBobT2FqDAebrWyo7CAQEskwRvHynYWYBzzc+/dDZBv1TE0dQUPfAO5AkEVFY8hLiUYiAbc/yJZjZhK1WgqSYtCoJPS7/FSbbWhkMnLi9USrpciGmYX+ZW8Nayua2PzgVfznhmrKW6wsLs5nZtYI4qLlQzny9Zx1uEP0u3xYnF5qLDZqe2yMMRm4Y2I6cvnpY/S7/MiREa0dPjE+qmpl+Y4qnryhgF8Vp3D9ir30OwOsnjcdQ7SMWssAf9hcjs3rIz9Zx+FWG2Pi9dxekM3kVCPRWukZc+5L7N4AK/fWsaGmGZVcyj1T02mzuvnwSCfT0hKp7rLiD4dwB4LcOSGH+6ZlA7CrsYslJeUAZMXpuH1cFrPHjjgtPl/i9AW49x/7abE5kUkEls8upjgrFkGAshO9aKRK8kdGIwigXbGMqGcfRxoOI0qlCE8+CUuWnJ1DX+OCCNDFRhQhHOZbA/dN9jZ2s2LvMXyhEGmGaNJidIw26hmbYCBBpyQQDuMPhtGp5cMm39nYEwiIyGTCWSeRyx/k05ouck0GMuO1wz5YX96Js11yEkWR411O+pw+7L4AiVEaClL0Q32LoojXL6KQSZBKocpsZfG6A4CIUiZl9bzpvFF5nF2NXZQ/dg33vnGQ9j4vr982/VvjUmsZ4NX9dRzttuLwBVDJpMzOSWGsycDKshrcwcFdlVGGKJbPLiYh9jwCfAZ6nF7mv/4ZarkUhy/Io1dN4IZxyWd9Ly4EoijywLoy6noHWDA5lVV7mnh8ZhG/yE8cun9Wt4//KKmgoW+Au4vGcFNe6lAldz409jh4tbSePc1mAO4uGs1dEzOx+rw8urGchr4BXrn5KvJHRgODVc1bB0+QHRtD4cjYocrqu+gccPPIhnLmjk1j3j+N/NaYyg+VEnfbzxECflAoEC5lBfRDJRAAmezsH+ifAh9WtfLsjir+7coCflmUyr4TFh75+BAv/Woi//5+BddmpfDoNfln7CcYEmnqcRGjVGLUy5FIoNfp5clPvsDm8bFs9mSSjYqL5sdTn1Syqbad307K5Y6JGcMK+sWm3eZi4Vu78YXCTEmNZ9mciadVv6Io4vaF0SilFywPa7oG6HcEmZweN+S3LxiiyeImOyH6gsQiHOaMgi4/VAq7dmKYOwPZtP+nNaAfkwBFGB6L3UusWoVcPpi4c179lJEGLfU9dh6fWcicghHfq/9AQEQuv7iq7/IFONxiozjddF5V7IViXWULr39ez/9edyXZSaevrVzuOJ2QkcF5i94leG9EuNQk6FRDv5UyKVPS4tnRMFjWT0iO+979X2zxAdAq5UzLMV30cc7E/PGjuDEvFZk0UmafDz+qDxEjXBymZyYAkBEbjTH64k2bLlfkMiEyzT9PzqsCEkVwnf43kwg/UibEx6OUSpmQaMLvB/+5f4Ab4SdK+Ht+IH/Oa0AAdvtXOzYRLg/CYfD5QD38R8MRInwrOt35b/SclwBFiBAhwoXg/wBv9F8qIow1wgAAAABJRU5ErkJggg==\"/></td>\n",
       "    </tr>\n",
       "    <tr>\n",
       "      <td>chi</td>\n",
       "      <td><img src=\"data:image/png;base64,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\"/></td>\n",
       "    </tr>\n",
       "    <tr>\n",
       "      <td>expon</td>\n",
       "      <td><img src=\"data:image/png;base64,iVBORw0KGgoAAAANSUhEUgAAASAAAAASCAYAAAD7RgOSAAAABHNCSVQICAgIfAhkiAAAAAlwSFlzAAALEgAACxIB0t1+/AAABSxJREFUeJztm9luHMcVhr/qffYhJW6ilghKonhJoiRXutOlrvRCeYkEeYYAeYDcGjACBIgN5CaAIEeybEW2Nm7DmZ6ZXqsqF9U9HEqkLdLaSNYHHJxT55yqrp5p/uxGY4TWWmOxWCzvAed9b8BisZxdvKNOuP2nf/DV85im73Ljcp8/XFngd5f73Li0wGIreBt7tFgspxRx1Eew7wcJf//XDvc2BtzdGPDNToyqlrjYb/CbS31+e7HHr9d7fLLeo9fw38rGLRbLyefIAqQ1PHgA7bYZjxPJ3WdD7j4f8N+tIfe3dnkxTmb9FxcafHqhx8cXuvxqtcNHa13W+w0cR7zRE7FYLCePnyxAB9U3RzlfvRhyf3PIw50RX2+PeDqaUB+oGbhcX+lwfbXDz5fb/HKlwy9W2qx2I4SwwmSxnBXeuAAdNmeUlDzcjHmwGfNoMOLbQcyjQcwoK2Z9zcDl2lKba0strp5vc3WpxdVzLX52vkknso9yFstp450I0GEoBVtxxtebY/43GPPdcMzj3TFPRhM2xgnzG1tsBVxZbHLlXJPLi00uLlZ+ocFqN8Jz7Qs9i+Wk8V4F6IeOMUklj3emPB5MeDKa8HQ04Vk85Vk8ZXOSoOZ27QrBSjdifaHBej9ird/gQi9irddgtRex1otYbAX28c5i+cD4IAXoh1AKslzxdJjwdJjwPJ7yfJywUdskYWuaItX+0/Jdh+VOyGo3YrkbstwJWe5GLLVDljoh59sh5zsB51ohgWfvpiyWd8GJE6AfQynIC83WOGMjTtkYJ2xOUnamGVvTlO1pyk6SsT1NmeTlgWv0Gj6LrYBzrcD4tvELTWOLrYB+06ffDFho+nQj377Vs1iOwakToNdBa5ASklyyNc7YnmRsTzMGScZumrObZAySnFGaMcxyhmnOKC2Qh3xUQkAn9Og1AnpNn17k0auEqdfw6UQenWi/b4fezLdCj9Bz7COi5cxxJgXoKGht7qpKqYnTkt1pzm6aM0xy4qxglBXEmYnjrGCSF4zzgnFWMClK4qwgl+pHj+M5glbo0Qo8WqFLKzTi1AxcY6FH0zdxI/Aq79Koc75L6Bsf+Q6R7xJV49Bz7B2a5YPECtBbQqk98cpLRZwWxFnJJC+J04JJXpIUJdPa8pKkNHGSl6RSVnVJVpakpSQpJGkpj7Uf33WIfIfQc4k8h7CKQ88h8BxC3yVwHULPmeV81/g6Dj0H3xUEroPnOgSug+8JfLfqdR08V+A5DoFnvOeauufsjese403su8LeAZ5BrAB94Gi9J2Rag1SatJAzS8q5uJDk0ohULhXZPm/ivFRkUlIqNasVSlFIVXlpYmnqda1UR7pMjoUjwHWMWLmOESen8u68iZfGcznnlRgT1zmxl69j56B4ZlT5+RqIl+pm/3XNxEIIRHVeoqpR97DXu9cnqrGpz9f25ajy83HdU/VxQK3eowBTZP+avLJu/c2IqrY3EkLQ/PeX9L74Jyt3bsPNm8f6zo8lQPfvg2NfFJ06arGrr4j5WClNIfWcIClKqSiUplSKojSxrOpSm16pNFIbr7Sm1AqlTZ/UelYvq7rUGqWMl7NeM9Z1vTI5P+dAY7bey3lVraeYi6t8bWhQVPOh6tFUpTPN75/c469/+yO+LHGjEPHZZ8cSoSP/Gl4IWFvbuzAtZwVR2cn4zzN/fR4Wv874dXOH/T0cNf+m6m+L+i6o/Zf/EGmJ0Aqd5/D55+9GgAC63ePMslgsp4Y7t+DPAeQ5Igjg1q1jLfN/7OE5TGAz20EAAAAASUVORK5CYII=\"/></td>\n",
       "    </tr>\n",
       "    <tr>\n",
       "      <td>gamma</td>\n",
       "      <td></td>\n",
       "    </tr>\n",
       "  </tbody>\n",
       "</table>"
      ],
      "text/plain": [
       "<IPython.core.display.HTML object>"
      ]
     },
     "metadata": {},
     "output_type": "display_data"
    }
   ],
   "source": [
    "a['sparkline'] = ''\n",
    "for n in range(9):\n",
    "    a.ix[n, 'sparkline'] = sparklines.sparkline(a.ix[n,0:100])\n",
    "sparklines.show(a[['function', 'sparkline']])"
   ]
  },
  {
   "cell_type": "code",
   "execution_count": 14,
   "metadata": {
    "collapsed": false
   },
   "outputs": [
    {
     "data": {
      "text/html": [
       "<div>\n",
       "<table border=\"1\" class=\"dataframe\">\n",
       "  <thead>\n",
       "    <tr style=\"text-align: right;\">\n",
       "      <th></th>\n",
       "      <th>function</th>\n",
       "      <th>data</th>\n",
       "      <th>sparklines</th>\n",
       "    </tr>\n",
       "  </thead>\n",
       "  <tbody>\n",
       "    <tr>\n",
       "      <th>0</th>\n",
       "      <td>rand</td>\n",
       "      <td>[0.574967202367, 0.0500824401281, 0.5584917090...</td>\n",
       "      <td>&lt;img src=\"data:image/png;base64,iVBORw0KGgoAAA...</td>\n",
       "    </tr>\n",
       "    <tr>\n",
       "      <th>1</th>\n",
       "      <td>randn</td>\n",
       "      <td>[2.23602474909, 0.111508233973, -1.37356679495...</td>\n",
       "      <td>&lt;img src=\"data:image/png;base64,iVBORw0KGgoAAA...</td>\n",
       "    </tr>\n",
       "    <tr>\n",
       "      <th>2</th>\n",
       "      <td>beta</td>\n",
       "      <td>[0.192118832773, 0.906255563917, 0.96539690063...</td>\n",
       "      <td>&lt;img src=\"data:image/png;base64,iVBORw0KGgoAAA...</td>\n",
       "    </tr>\n",
       "    <tr>\n",
       "      <th>3</th>\n",
       "      <td>binomial</td>\n",
       "      <td>[0, 2, 0, 1, 0, 1, 0, 0, 2, 2, 0, 1, 0, 1, 0, ...</td>\n",
       "      <td>&lt;img src=\"data:image/png;base64,iVBORw0KGgoAAA...</td>\n",
       "    </tr>\n",
       "    <tr>\n",
       "      <th>4</th>\n",
       "      <td>exponential</td>\n",
       "      <td>[1.67942773086, 0.196309207445, 1.22798487006,...</td>\n",
       "      <td>&lt;img src=\"data:image/png;base64,iVBORw0KGgoAAA...</td>\n",
       "    </tr>\n",
       "  </tbody>\n",
       "</table>\n",
       "</div>"
      ],
      "text/plain": [
       "      function                                               data  \\\n",
       "0         rand  [0.574967202367, 0.0500824401281, 0.5584917090...   \n",
       "1        randn  [2.23602474909, 0.111508233973, -1.37356679495...   \n",
       "2         beta  [0.192118832773, 0.906255563917, 0.96539690063...   \n",
       "3     binomial  [0, 2, 0, 1, 0, 1, 0, 0, 2, 2, 0, 1, 0, 1, 0, ...   \n",
       "4  exponential  [1.67942773086, 0.196309207445, 1.22798487006,...   \n",
       "\n",
       "                                          sparklines  \n",
       "0  <img src=\"data:image/png;base64,iVBORw0KGgoAAA...  \n",
       "1  <img src=\"data:image/png;base64,iVBORw0KGgoAAA...  \n",
       "2  <img src=\"data:image/png;base64,iVBORw0KGgoAAA...  \n",
       "3  <img src=\"data:image/png;base64,iVBORw0KGgoAAA...  \n",
       "4  <img src=\"data:image/png;base64,iVBORw0KGgoAAA...  "
      ]
     },
     "execution_count": 14,
     "metadata": {},
     "output_type": "execute_result"
    }
   ],
   "source": [
    "df.head()"
   ]
  },
  {
   "cell_type": "markdown",
   "metadata": {},
   "source": [
    "### Create sparkline html image data"
   ]
  },
  {
   "cell_type": "raw",
   "metadata": {
    "collapsed": false
   },
   "source": [
    "x = sparklines.create(data=a.ix[:, 0:99])"
   ]
  },
  {
   "cell_type": "code",
   "execution_count": 15,
   "metadata": {
    "collapsed": false
   },
   "outputs": [
    {
     "data": {
      "text/html": [
       "<div>\n",
       "<table border=\"1\" class=\"dataframe\">\n",
       "  <thead>\n",
       "    <tr style=\"text-align: right;\">\n",
       "      <th></th>\n",
       "      <th>function</th>\n",
       "      <th>data</th>\n",
       "      <th>sparklines</th>\n",
       "    </tr>\n",
       "  </thead>\n",
       "  <tbody>\n",
       "    <tr>\n",
       "      <th>0</th>\n",
       "      <td>rand</td>\n",
       "      <td>[0.574967202367, 0.0500824401281, 0.5584917090...</td>\n",
       "      <td>&lt;img src=\"data:image/png;base64,iVBORw0KGgoAAA...</td>\n",
       "    </tr>\n",
       "    <tr>\n",
       "      <th>1</th>\n",
       "      <td>randn</td>\n",
       "      <td>[2.23602474909, 0.111508233973, -1.37356679495...</td>\n",
       "      <td>&lt;img src=\"data:image/png;base64,iVBORw0KGgoAAA...</td>\n",
       "    </tr>\n",
       "    <tr>\n",
       "      <th>2</th>\n",
       "      <td>beta</td>\n",
       "      <td>[0.192118832773, 0.906255563917, 0.96539690063...</td>\n",
       "      <td>&lt;img src=\"data:image/png;base64,iVBORw0KGgoAAA...</td>\n",
       "    </tr>\n",
       "    <tr>\n",
       "      <th>3</th>\n",
       "      <td>binomial</td>\n",
       "      <td>[0, 2, 0, 1, 0, 1, 0, 0, 2, 2, 0, 1, 0, 1, 0, ...</td>\n",
       "      <td>&lt;img src=\"data:image/png;base64,iVBORw0KGgoAAA...</td>\n",
       "    </tr>\n",
       "    <tr>\n",
       "      <th>4</th>\n",
       "      <td>exponential</td>\n",
       "      <td>[1.67942773086, 0.196309207445, 1.22798487006,...</td>\n",
       "      <td>&lt;img src=\"data:image/png;base64,iVBORw0KGgoAAA...</td>\n",
       "    </tr>\n",
       "  </tbody>\n",
       "</table>\n",
       "</div>"
      ],
      "text/plain": [
       "      function                                               data  \\\n",
       "0         rand  [0.574967202367, 0.0500824401281, 0.5584917090...   \n",
       "1        randn  [2.23602474909, 0.111508233973, -1.37356679495...   \n",
       "2         beta  [0.192118832773, 0.906255563917, 0.96539690063...   \n",
       "3     binomial  [0, 2, 0, 1, 0, 1, 0, 0, 2, 2, 0, 1, 0, 1, 0, ...   \n",
       "4  exponential  [1.67942773086, 0.196309207445, 1.22798487006,...   \n",
       "\n",
       "                                          sparklines  \n",
       "0  <img src=\"data:image/png;base64,iVBORw0KGgoAAA...  \n",
       "1  <img src=\"data:image/png;base64,iVBORw0KGgoAAA...  \n",
       "2  <img src=\"data:image/png;base64,iVBORw0KGgoAAA...  \n",
       "3  <img src=\"data:image/png;base64,iVBORw0KGgoAAA...  \n",
       "4  <img src=\"data:image/png;base64,iVBORw0KGgoAAA...  "
      ]
     },
     "execution_count": 15,
     "metadata": {},
     "output_type": "execute_result"
    }
   ],
   "source": [
    "df.head()"
   ]
  },
  {
   "cell_type": "markdown",
   "metadata": {},
   "source": [
    "### Render Dataframe and inline HTML"
   ]
  },
  {
   "cell_type": "code",
   "execution_count": 16,
   "metadata": {
    "collapsed": false
   },
   "outputs": [
    {
     "data": {
      "text/html": [
       "<table border=\"1\" class=\"dataframe\">\n",
       "  <thead>\n",
       "    <tr style=\"text-align: right;\">\n",
       "      <th>function</th>\n",
       "      <th>data</th>\n",
       "      <th>sparklines</th>\n",
       "    </tr>\n",
       "  </thead>\n",
       "  <tbody>\n",
       "    <tr>\n",
       "      <td>rand</td>\n",
       "      <td>[0.574967202367, 0.0500824401281, ...]</td>\n",
       "      <td><img src=\"data:image/png;base64,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\"/></td>\n",
       "    </tr>\n",
       "    <tr>\n",
       "      <td>randn</td>\n",
       "      <td>[2.23602474909, 0.111508233973, ...]</td>\n",
       "      <td><img src=\"data:image/png;base64,iVBORw0KGgoAAAANSUhEUgAAASAAAAASCAYAAAD7RgOSAAAABHNCSVQICAgIfAhkiAAAAAlwSFlzAAALEgAACxIB0t1+/AAAB9xJREFUeJztmttzE9cdxz+67WpXkiVZkiWMbQkawMYOppnJTJlMMkwacDotuK/9K/qc5/RPyEv74HR4SR/a6UMv0+lMpiRg3MKEyVBKwIAvWBjJkq27Viut9vRh5RvQFBvjC+xnRnN21zo6q7X02e/vHDmEEAIbGxubPcC51ydgY2Pz5uLe6xOwef0xTcFX0zkmJme5cj8PQCriY2wkzvmTCX7YH8LpdOzxWdrsBQ67BLN5VdR0gz/cTPPbyTlm8jViPpmfDabwSR6m5jN8+2SZthDE/DLnTsYZG0lw5mgEyW0H8zcFW0A2O066UOfS1DxfXH9EpWEw1BPi4mCKD48dwq86cXTCTrHe4sqDJa7OZbiRztEw2vhlN2dP9PDxSJyzJ3rwy3ZIf52xBWSzIwgh+Ga+wMTkLH+7ncGBg/ePJPj50BFO94eRpO/vrzXb/HM2z5WZLFMLWUqNJh6Xk/d+EGFsJMFHQ3FiAXl33ozNrmELyOalaBomf/33EyYmZ7mVLtEle/jJ8QEuDCVJxhRcrq2/ptEW3HxU4OuZDNfmM2SqGg7gnYEwYyNxxoYTJCO+HX8vNruPLSCbbbFc1fni+iMuTc2zVNEZCPkYHzrC+eOH6e5yr5VZL4tpCu5mKnz9MMvkfIaHK2UAjvcE+HgkzvnhBMO9XTh2akCbXcUW0B4ghKCktUgXNBZW6qQLGulCnXLDYDAR4FRfiLf7gvty/uNupsznV+f447ePaRom7/bFGB9K8aNUDFV59RJ4tFzn8oMs1+Yz3M6uYAroDSqcH7aS0bupMG6XPYl9ULAF9AoQQlDWDBYK63JZbRcKGo8LGlXd2NTHJ7lRPG7ytQYADuBozM9of5DRvhCn+oIMHerC69lGTfOSmKbgH/eWmJicZfLBMrLbybm3+rg4lGLwUAD3HnkyX9H56sESk3NZbi7maLZNgoqHj4bijA3Hef9YDEXa/etl8+LYAtomVoJZFUtHLivrsnlaMKrHTSKgEPerxP1K56FyKKDQG1TpUjy43VZpcydT4rulEtP5IvdyRYqNJgAep4PjiQCj/SFG+4Kc6gtxrMf/yu74Nd3g99+k+XxylrnlOjG/lwsnkvx0aIB4SMK5j4JGRTO4NpPj6lyWfy1kqTYNvG4nHxyPMTac4PRAiP6wai/x7zNsAT0HIQQV3eDxphJpc5IpNzYLRvG4SARU4j6FeKddFU5vUCGoePB4HDidbGl+xDQF6ZUGdzJF7uYsKd3Pl6i1jLVxT/Z2cbrfSkmjfSGSEfWl5kQWVupcmprjdzcWqDQMTsZDjA8e4exbiU3L6PuVZsvk+vwKV2YyTD3Kkq9bqdLpsMq1ZNRHKqKSivhIRlRSUR8D3eqepMudoG0K8lWdstYi7JMIqxKuA/LDzjdGQEIIas02+YpOrqqTr+jkqzq5ik6u2iS3YT9f1dENc1N/r9v13ASTCFiCCW1TMNvBaAtmcjXuZIpM50vcyxV5uFKm2bbOOah4ePtwkNF+KyWN9oVIBL3f+5pCCG7MFZi4Osvf71jL6B8cPcT4YOqFltH3K21T8J/FMjP5Co/LdRbLNRbLdZ5UapT11qbnxru862KKrgsqGfHtyXzcaimfKTfIlhtkyg2WOm22rJPtHM9VdMwN32KnA8KqRNQvE/VLRAMyUb9MxG8di23YjvglZPfeiffAC6imG+Srm2WyUTLrsmmitdrP9HcAIUUirMiEvDJhZfUh0eNTSQQUeoMKYVXC7Xbgcr16wWwHvWkyvVThu6wlpOl8idlCBbPz7+0JyB0ZBTnVKeFCqkTTMPnzrUUmJme5/bhsLaOfGODC4PaX0Q8C7bb1Q8iFQo2F4rqYFss1Fit1Cpq+6flRv2ylpYiVnpJRH8luaz+oerY8fqPVtqRSapCt6GRLlkw2bzdotMxn+nZ5PURULxHFS0SViaheulUvAclNWW9R0HSKjSYFTafU0CloTYqajmY8+/kHCHjdHVl1hOV/SlgBiYhPJhqQ8Umu9XQ9NQWXL8PZs3DmzJavAWxDQHczZWq6gSms8kAAphAI8fzWFJbJN7amsPpZ+wLTfPrYel+EoG0KilprQ0JZTyz15vOlEuxIJeyVLcFskotMtyoT8UmEFAnJ48TpZFfSy25S1drczZYsKeWLTOdKpMu1tb/3h1UaRptcRScZ9jE+eIRzO7yMfhAxTSjXDRaKNRYK61JabVcXClYJKR6SER+pqJWWUhGV3pBCWWt1Uoq+lmJW90ta65lxZbeTqG9VLBvkoniJ+bxE/V5iPhlFduFyvfjn1TStR003WK42WdF0CvUmK3WdYqMjqw3bRU1/Jh2u4vU4ifhk3svd51ef/RKX0cIly/Dll9uS0JYFdPGzq9xKl7Y80E7QJXvoVteTSlC2toOyTFCWCHktsYQVCY/79ZTKy1KotbjXmeB+WCwBgvNHk7xzOIritS/U/8P6IrdZLNVJl2pkq3UytRqZqlXWLdW0TeUQgNPhsG54qkxEsYTSrXitm6K3Ixi/F7/k3vOULYT1HvWWSVGzJGUlqSYlXaesNynqOh/+6Tf84i+/xiVMhMuF49NP4ZNPtjzetkqwQgHq9S2P9T8v6vOOP33M4WBNKPu1DDqICGFfy53CNK3SzjCsFqxr63Kxllhel5LWdX0K3/iPodkEScKxWwnIxsbGBtiROaD/Ar57NhNVdwSSAAAAAElFTkSuQmCC\"/></td>\n",
       "    </tr>\n",
       "    <tr>\n",
       "      <td>beta</td>\n",
       "      <td>[0.192118832773, 0.906255563917, ...]</td>\n",
       "      <td><img src=\"data:image/png;base64,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\"/></td>\n",
       "    </tr>\n",
       "    <tr>\n",
       "      <td>binomial</td>\n",
       "      <td>[0, 2, ...]</td>\n",
       "      <td><img src=\"data:image/png;base64,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\"/></td>\n",
       "    </tr>\n",
       "    <tr>\n",
       "      <td>exponential</td>\n",
       "      <td>[1.67942773086, 0.196309207445, ...]</td>\n",
       "      <td><img src=\"data:image/png;base64,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\"/></td>\n",
       "    </tr>\n",
       "    <tr>\n",
       "      <td>geometric</td>\n",
       "      <td>[5, 4, ...]</td>\n",
       "      <td><img src=\"data:image/png;base64,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\"/></td>\n",
       "    </tr>\n",
       "    <tr>\n",
       "      <td>laplace</td>\n",
       "      <td>[0.507503388953, 1.26651712945, ...]</td>\n",
       "      <td><img src=\"data:image/png;base64,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\"/></td>\n",
       "    </tr>\n",
       "    <tr>\n",
       "      <td>chi</td>\n",
       "      <td>[0.0404984146931, 0.0453911219428, ...]</td>\n",
       "      <td><img src=\"data:image/png;base64,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\"/></td>\n",
       "    </tr>\n",
       "    <tr>\n",
       "      <td>expon</td>\n",
       "      <td>[0.99, 0.945098912291, ...]</td>\n",
       "      <td><img src=\"data:image/png;base64,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\"/></td>\n",
       "    </tr>\n",
       "    <tr>\n",
       "      <td>gamma</td>\n",
       "      <td>[0.129412202417, 0.174738551881, ...]</td>\n",
       "      <td><img src=\"data:image/png;base64,iVBORw0KGgoAAAANSUhEUgAAASAAAAASCAYAAAD7RgOSAAAABHNCSVQICAgIfAhkiAAAAAlwSFlzAAALEgAACxIB0t1+/AAABxpJREFUeJztm11v29YZgB+SokTqy5JjS3Yky0nloFuHdnPibuiGbcEad9e7GrA/sbsBvRkw9B/sctgvqNthBYqtwBAg28VSYHZaOI6djyUZaluy5ESU9WFKpMizC1K20rhJnDi26/ABKJKH3zzkw/c9pCQhhCAgICDgCJCPegcCAgJeXUJHvQOvMq4r+Pfdh8wtrPLZ0gbdngvA2VMxpgsppifTTE+k+M5YgpASPCsCTh5SkIIdPqu1beYW1vh4YY31ukkiEuLiazkunB7lq3qTlc06K1WDescCQFcV3swNeVIqpJgupMkmtSM+ioCAFycQ0CFhWg5/Xyrz4fwqn9+rIQEX8iPMFif42WtZknEFSdqd33UFqzWTxVKdm1WDlc06dx82sF0vShof0pgupDnvS+l7p4fQVOVoDi4g4DkJBPQSEUJw7as6c/OrfLpYptXtkRuKcqmYZ3YqT2FEJ7SPJNi0HFbKDW5s1Fmp1rm5abDRMgEIyRLfHU/6QkozXUhRGI4iDVotIOCYEQjoJVBtdPj42jpzC6vc22yjhRR+fnac2ak85yeG0bSDkYIQsLHVYalUZ7nqpW23H2zR6TkApKNhpgupHSm9lR8ioakHsu2AgIMgENABYfVcLq9UmFtY45+3N3FcwZtjaWaLE1wsjjOcDCEfQjty13b5b7XFUrnOyqbBzc06X9VbAEjAVCbOeT9Cmi6kKY7GUGQpiJQCjoRAQC/IcqnB3MIqf/1iHWPbZiQW4VIxz3vn8hQzcdRjEHDUWrYXJVV2pdTs2o/NJ0sgSRKyBOD1ZUlC8sslf57Hy/xl/H5/HbIvtf78/bJsUmPmTJqZyWF+UEgRjwQvY19V9i2g33+yxN3NFq4LAoEQIAAEuEIg8No++uVC+OMM9gfn9X72Ku+vH2A4Fiaf1smldfIpr59LRcml9UO/gOvbFp98WeLD+VVulBqoisyPC1lmp/L8aHKUqC5xnAMKxxHcf9DmeqnORmt7oK7EI3UkELh71p9fjnhk2b3qzvUr0PWvCRdBaavNfaOJwJPS62NJ3j6T5sJkmpkzw+RS+lGdmoBDZt8C+t1Hi6ystXwx+E9CvA5J8r5s9J+M3rT+U5CdML//219W9ge89ezevP0nLEDd7FJpm1RbJj330V1O6Sq5vpTSOvl0lFxK94SV0klF1RdOMRxX8K87m3w0v8Y/litYjsu5kSSzxTzvTuXIpMIowUuoZ8Zo2SyW6lwv11iuelFZv+1qbCdC8oQUfAf1OI4rqDY7rBsma4bJet3kYcsiroUY0tVv7DRVPlbp9r4FJATcuQPx+MvapSdv2+4Jqo0uGw2TctOk0tym2japtDw5VVrmzoXcJxpWdoXkR06D0dRIPIIs710p9x+0mZtf5S/X1tlodBjSVH5RzDE7NcEb40nC4cM48pNP13a5VWmyWKpxo2KwXDXYbHcAiKoK359IeVHSmWGmCymSJ7wxvee4bDQ6nlx8yawZ26zXveHylontPHrr6qpCx3Z40g2tKrIvo28QVTT87PK6ehWuXIGLF+Gdd57rOL9VAnoaQkCvJzDaNuWGSbmxTcWXUl9Q1bb5WPuHqsicTmnk09Gd9C4WCfHZUpn//M9AluCHExkuFfP85GyGZEw51inWSUAIWKuZfLleY7licKNqcK/WwBVepPx6NsHMWa8d6cJkmnxaP1ZP9qdh9VzKWwNyqXuC6Qtno9HB+VqkfyoaIZvQyUSjZBM62ZhONqEzlogyltSJRRQcV9C2emyZNs2uTcO0aXYtmpZNq+uVtSy/69o0LZu21S/vPXGfB+X1dvkWf/jjbwk5NkokApcvP5eETpSAngXHgabZo7RlUtryBFVt70ZPlZaJYXYBKKRiXCpOMHsuR/6UFqRYR0xju7eTtt2oeGnbtu3dNKOJyE7KNjOZ5o3TSdQjStuEEHRsTzD99GjN2B6IZEwqzQ6Dd54EjMY1snGdTCxKJqYzltDJxH3BJDSimoKicKBvU702WnBdL7todW0and2uL6lBeTUtm19++md+87c/oQgXoShIH3wA77+/7+2/cgJ6Gq4L7Y5DrW2RTWgH9s1OwMFj9wS3Nhoslo2dtK3if5ipqwpv5YeY8Ru3k5qK1XPpOi5d28VyXKye13V7zsDw7rTuXtP86V3b2Vnf16dZ/n/6BlEkidG4Riamk41HycZ1TzZxnfFElGxSQwvLBy6Yl4U6f5VTv34XybYgHEY6zAjo9u1vx0kKeLUQAspbHa6Xa9x6aHDzgcHdWmPnTdyzIAHhkIwqy6iKQliRUZX+uOyN+8OqonjDskxIkQn7fVWWCSsKw5rGiO6lSZm4hhqSCYU4Mem79sVVIp9fYfhXFwn99JDagAAaDdj/UgEBh0+vB5blRbaD7L5p3e2eNL7XtACPZPL5z0nwIWJAQMCR8X99XfUEaC5XPAAAAABJRU5ErkJggg==\"/></td>\n",
       "    </tr>\n",
       "  </tbody>\n",
       "</table>"
      ],
      "text/plain": [
       "<IPython.core.display.HTML object>"
      ]
     },
     "metadata": {},
     "output_type": "display_data"
    }
   ],
   "source": [
    "sparklines.show(df)"
   ]
  },
  {
   "cell_type": "markdown",
   "metadata": {},
   "source": [
    "### Dataframe copy and more detailed formatting\n",
    "\n",
    "Return only sparklines, format the line, fill and marker."
   ]
  },
  {
   "cell_type": "code",
   "execution_count": null,
   "metadata": {
    "collapsed": false
   },
   "outputs": [],
   "source": [
    "df_copy = sparklines.create(dataframe=df, \n",
    "                            data='data', copy=True,\n",
    "                            color='green',\n",
    "                            fill_color='green', fill_alpha=0.1,\n",
    "                            point_color='black', point_fill='orange',\n",
    "                            point_marker='o', point_size=3)"
   ]
  },
  {
   "cell_type": "code",
   "execution_count": null,
   "metadata": {
    "collapsed": false
   },
   "outputs": [],
   "source": [
    "sparklines.show(df_copy)"
   ]
  },
  {
   "cell_type": "markdown",
   "metadata": {},
   "source": [
    "### Add annotation columns"
   ]
  },
  {
   "cell_type": "code",
   "execution_count": null,
   "metadata": {
    "collapsed": true
   },
   "outputs": [],
   "source": [
    "df_copy['function'] = df.function"
   ]
  },
  {
   "cell_type": "code",
   "execution_count": null,
   "metadata": {
    "collapsed": false
   },
   "outputs": [],
   "source": [
    "df_copy['value'] = df.data.apply(lambda x: x[-1])"
   ]
  },
  {
   "cell_type": "code",
   "execution_count": null,
   "metadata": {
    "collapsed": false
   },
   "outputs": [],
   "source": [
    "df_copy['change'] = df.data.apply(lambda x: x[-2]) \\\n",
    "                    - df.data.apply(lambda x: x[-1])"
   ]
  },
  {
   "cell_type": "code",
   "execution_count": null,
   "metadata": {
    "collapsed": true
   },
   "outputs": [],
   "source": [
    "df_copy['change_%'] = df_copy.change / df.data.apply(lambda x: x[-2])"
   ]
  },
  {
   "cell_type": "code",
   "execution_count": null,
   "metadata": {
    "collapsed": true
   },
   "outputs": [],
   "source": [
    "df_copy = df_copy[['function', 'sparklines', 'value', 'change', 'change_%']]"
   ]
  },
  {
   "cell_type": "code",
   "execution_count": null,
   "metadata": {
    "collapsed": false
   },
   "outputs": [],
   "source": [
    "sparklines.show(df_copy)"
   ]
  },
  {
   "cell_type": "markdown",
   "metadata": {},
   "source": [
    "### Export to HTML\n",
    "Can be used without loading in a Jupyter Notebook"
   ]
  },
  {
   "cell_type": "code",
   "execution_count": null,
   "metadata": {
    "collapsed": false
   },
   "outputs": [],
   "source": [
    "sparklines.to_html(df_copy, 'pandas_sparklines_demo')"
   ]
  }
 ],
 "metadata": {
  "kernelspec": {
   "display_name": "Python 3",
   "language": "python",
   "name": "python3"
  },
  "language_info": {
   "codemirror_mode": {
    "name": "ipython",
    "version": 3
   },
   "file_extension": ".py",
   "mimetype": "text/x-python",
   "name": "python",
   "nbconvert_exporter": "python",
   "pygments_lexer": "ipython3",
   "version": "3.6.0"
  }
 },
 "nbformat": 4,
 "nbformat_minor": 1
}
